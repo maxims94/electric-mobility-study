{
 "cells": [
  {
   "cell_type": "markdown",
   "metadata": {},
   "source": [
    "# Dataset 2: Interactive"
   ]
  },
  {
   "cell_type": "code",
   "execution_count": 10,
   "metadata": {},
   "outputs": [],
   "source": [
    "import ipywidgets as widgets\n",
    "from ipywidgets import *\n",
    "\n",
    "import pandas as pd\n",
    "import numpy as np\n",
    "from sklearn.model_selection import train_test_split\n",
    "from sklearn.metrics import mean_absolute_error, mean_squared_error\n",
    "from sklearn import neighbors\n",
    "from sklearn import tree\n",
    "from sklearn import linear_model\n",
    "import graphviz\n",
    "import matplotlib.pyplot as plt\n",
    "import pickle\n",
    "from IPython.display import SVG\n",
    "from IPython.display import display \n",
    "\n",
    "df = pd.read_csv('data/dataset2.csv',index_col='country')\n",
    "\n",
    "df = df.drop('Norway',axis=0)\n",
    "X = df.drop('max_ev_p',axis=1)\n",
    "y = df['max_ev_p']\n",
    "\n",
    "train_X, test_X, train_y, test_y = train_test_split(X,y,random_state=0)"
   ]
  },
  {
   "cell_type": "markdown",
   "metadata": {},
   "source": [
    "## Visualize decision trees "
   ]
  },
  {
   "cell_type": "code",
   "execution_count": 2,
   "metadata": {},
   "outputs": [
    {
     "data": {
      "application/vnd.jupyter.widget-view+json": {
       "model_id": "cab98ae42eeb46c4b74eacaddb2bd4eb",
       "version_major": 2,
       "version_minor": 0
      },
      "text/plain": [
       "interactive(children=(Dropdown(description='depth', options=(1, 2, 3, 4, 5, 6, 7, 8, 9), value=1), Output()), …"
      ]
     },
     "metadata": {},
     "output_type": "display_data"
    },
    {
     "data": {
      "text/plain": [
       "<function __main__.generate_tree(depth)>"
      ]
     },
     "metadata": {},
     "output_type": "display_data"
    }
   ],
   "source": [
    "def generate_tree(depth):\n",
    "    dtree = tree.DecisionTreeRegressor(random_state=0,max_depth=depth)\n",
    "    dtree.fit(train_X,train_y)\n",
    "    error = mean_squared_error(test_y,dtree.predict(test_X))\n",
    "    print('MSE: %s' % error)\n",
    "    graph = graphviz.Source(tree.export_graphviz(dtree, feature_names=X.columns))\n",
    "    display(SVG(graph.pipe(format='svg')))\n",
    "\n",
    "inter=interact(generate_tree, depth=range(1,10))\n",
    "\n",
    "display(inter)"
   ]
  },
  {
   "cell_type": "markdown",
   "metadata": {},
   "source": [
    "## Predict EV market share"
   ]
  },
  {
   "cell_type": "markdown",
   "metadata": {},
   "source": [
    "model = neighbors.KNeighborsRegressor(n_neighbors=2)\n",
    "model.fit(X,y)\n",
    "\n",
    "#model = linear_model.LinearRegression()\n",
    "#model.fit(X,y)\n",
    "\n",
    "def predict_ev(Name,ssm, gini, ppp, spi, nat_p):\n",
    "    x = pd.DataFrame({'ssm':ssm,'gini':gini,'ppp':ppp,'spi':spi,'nat_p':nat_p},index=[0])\n",
    "    pred = model.predict(x)\n",
    "    print(x)\n",
    "    print('The country \"%s\" is predicted to have a EV market share of %s' % (Name,pred))\n",
    "\n",
    "    \n",
    "style = {'description_width': 'initial'}\n",
    "wide_layout = Layout(width='350px')\n",
    "inter=interact(predict_ev,Name='country',\n",
    "               ssm=Checkbox(description='Same-sex marriage'), \n",
    "               gini=FloatSlider(min=0,max=1,step=0.01,description='Gini index'),\n",
    "               ppp=IntSlider(min=0,max=100000,description='GDP (PPP) per capita',style=style,layout=wide_layout),\n",
    "               spi=IntSlider(min=0,max=100,description='Social progress index',style=style,layout=wide_layout),\n",
    "               nat_p=IntSlider(min=0,max=100,description='Nationalist parties',style=style,layout=wide_layout) )\n",
    "display(inter)\n"
   ]
  },
  {
   "cell_type": "code",
   "execution_count": 12,
   "metadata": {},
   "outputs": [
    {
     "data": {
      "application/vnd.jupyter.widget-view+json": {
       "model_id": "263c107d99234b20acd37c40c8256421",
       "version_major": 2,
       "version_minor": 0
      },
      "text/plain": [
       "interactive(children=(Text(value='country', description='Name'), Checkbox(value=False, description='Same-sex m…"
      ]
     },
     "metadata": {},
     "output_type": "display_data"
    },
    {
     "data": {
      "text/plain": [
       "<function __main__.predict_ev_knn(Name, ssm, gini, ppp, spi, nat_p)>"
      ]
     },
     "metadata": {},
     "output_type": "display_data"
    }
   ],
   "source": [
    "knn = neighbors.KNeighborsRegressor(n_neighbors=2)\n",
    "knn.fit(X,y)\n",
    "\n",
    "def predict_ev_knn(Name,ssm, gini, ppp, spi, nat_p):\n",
    "    x = pd.DataFrame({'ssm':ssm,'gini':gini,'ppp':ppp,'spi':spi,'nat_p':nat_p},index=[0])\n",
    "    pred = knn.predict(x)\n",
    "    print(x)\n",
    "    print('The country \"%s\" is predicted to have a EV market share of %s' % (Name,pred))\n",
    "\n",
    "    \n",
    "style = {'description_width': 'initial'}\n",
    "wide_layout = Layout(width='350px')\n",
    "inter=interact(predict_ev_knn,Name='country',\n",
    "               ssm=Checkbox(description='Same-sex marriage'), \n",
    "               gini=FloatSlider(min=0,max=1,step=0.01,description='Gini index'),\n",
    "               ppp=IntSlider(min=0,max=100000,description='GDP (PPP) per capita',style=style,layout=wide_layout),\n",
    "               spi=IntSlider(min=0,max=100,description='Social progress index',style=style,layout=wide_layout),\n",
    "               nat_p=IntSlider(min=0,max=100,description='Nationalist parties',style=style,layout=wide_layout) )\n",
    "display(inter)\n"
   ]
  },
  {
   "cell_type": "code",
   "execution_count": 14,
   "metadata": {},
   "outputs": [
    {
     "name": "stdout",
     "output_type": "stream",
     "text": [
      "[ 8.98077254e-01  7.49162043e-05 -5.89222336e-02]\n"
     ]
    },
    {
     "data": {
      "application/vnd.jupyter.widget-view+json": {
       "model_id": "841aafbceb374e2a970feb9067c97106",
       "version_major": 2,
       "version_minor": 0
      },
      "text/plain": [
       "interactive(children=(Text(value='country', description='Name'), Checkbox(value=False, description='Same-sex m…"
      ]
     },
     "metadata": {},
     "output_type": "display_data"
    },
    {
     "data": {
      "text/plain": [
       "<function __main__.predict_ev(Name, ssm, gini, ppp, spi, nat_p)>"
      ]
     },
     "metadata": {},
     "output_type": "display_data"
    }
   ],
   "source": [
    "columns = ['ssm','ppp','nat_p']\n",
    "model = linear_model.LinearRegression()\n",
    "model.fit(train_X[columns],train_y)\n",
    "\n",
    "print(model.coef_)\n",
    "\n",
    "def predict_ev(Name,ssm, gini, ppp, spi, nat_p):\n",
    "    x = pd.DataFrame({'ssm':ssm,'ppp':ppp,'nat_p':nat_p},index=[0])\n",
    "    x=x[columns]\n",
    "    print(x)\n",
    "    pred = model.predict(x)\n",
    "    print('The country \"%s\" is predicted to have a EV market share of %s' % (Name,pred))\n",
    "\n",
    "    \n",
    "style = {'description_width': 'initial'}\n",
    "wide_layout = Layout(width='350px')\n",
    "inter=interact(predict_ev,Name='country',\n",
    "               ssm=Checkbox(description='Same-sex marriage'), \n",
    "               gini=FloatSlider(min=0,max=1,step=0.01,description='Gini index'),\n",
    "               ppp=IntSlider(min=0,max=100000,description='GDP (PPP) per capita',style=style,layout=wide_layout),\n",
    "               spi=IntSlider(min=0,max=100,description='Social progress index',style=style,layout=wide_layout),\n",
    "               nat_p=IntSlider(min=0,max=100,description='Nationalist parties',style=style,layout=wide_layout) )\n",
    "display(inter)\n"
   ]
  },
  {
   "cell_type": "code",
   "execution_count": null,
   "metadata": {},
   "outputs": [],
   "source": []
  }
 ],
 "metadata": {
  "kernelspec": {
   "display_name": "Python 3",
   "language": "python",
   "name": "python3"
  },
  "language_info": {
   "codemirror_mode": {
    "name": "ipython",
    "version": 3
   },
   "file_extension": ".py",
   "mimetype": "text/x-python",
   "name": "python",
   "nbconvert_exporter": "python",
   "pygments_lexer": "ipython3",
   "version": "3.5.2"
  }
 },
 "nbformat": 4,
 "nbformat_minor": 2
}
