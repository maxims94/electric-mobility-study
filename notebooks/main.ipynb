{
 "cells": [
  {
   "cell_type": "markdown",
   "metadata": {},
   "source": [
    "# Electric mobility study\n",
    "\n",
    "## Objective\n",
    "\n",
    "**Which factors influence the adoption of electric vehicles in different countries?**\n",
    "\n",
    "## Description\n",
    "\n",
    "Electric vehicles will play a key role in the transformation to sustainable transport. However, worldwide adoption of electric cars is still sluggish. This study analyzes whether certain characteristics of countries relate to the market penetration of EVs. We will restrict ourselves to passenger cars bought by consumers and focus mainly on the European market. The goal is to better understand the market to inform business decisions.\n",
    "\n",
    "## Characteristics\n",
    "\n",
    "The list of characteristics that will be considered:\n",
    "* Is **same-sex marriage** allowed in this country?\n",
    "* **Gini index**, which is a measure of income inequality (the higher, the greater the income inequality)\n",
    "* Share of votes that **nationalist parties** received in the last election\n",
    "* **Social progress index** (accumulative index that includes education, electricity, human rights etc.)\n",
    "* **GDP per capita (PPP)**\n",
    "\n",
    "## Plan\n",
    "\n",
    "### Dataset 1\n",
    "\n",
    "* Acquire data on electric cars from Eurostat\n",
    "* Clean the data\n",
    "* Explore this data\n",
    "\n",
    "### Dataset 2\n",
    "\n",
    "* Include data from China and U.S.\n",
    "* Acquire data on certain characteristics of countries (e.g. GDP per capita)\n",
    "* Combine it with the existing data\n",
    "* Try to find relationships between characteristics of countries and EV market penetration\n",
    "* Create a model that can predict the EV market share of a country\n",
    "\n",
    "## Results\n",
    "\n",
    "* Norway is unparalleled in the world when it comes to EV market share. In fact, its numbers were so high that it had to be excluded from model training.\n",
    "* The time series data on electric car registrations in Europe shows an exponential trend; this is likely to continue in the next years and we should expect the share of EVs to rise immensely\n",
    "* Nearly every European country sees a steady rise of the market share of EVs; some (Poland, Hungary) more slower than others (Germany, France), but the trend is unmistakable!\n",
    "* To my surprise, success of nationalist parties does not correlate negatively with EV market share! The other characteristics, however, behave as expected (the strongest correlation is with GDP per capita)"
   ]
  },
  {
   "cell_type": "code",
   "execution_count": null,
   "metadata": {},
   "outputs": [],
   "source": []
  }
 ],
 "metadata": {
  "kernelspec": {
   "display_name": "Python 3",
   "language": "python",
   "name": "python3"
  },
  "language_info": {
   "codemirror_mode": {
    "name": "ipython",
    "version": 3
   },
   "file_extension": ".py",
   "mimetype": "text/x-python",
   "name": "python",
   "nbconvert_exporter": "python",
   "pygments_lexer": "ipython3",
   "version": "3.5.2"
  }
 },
 "nbformat": 4,
 "nbformat_minor": 2
}
