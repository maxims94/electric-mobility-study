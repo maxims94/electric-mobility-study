{
 "cells": [
  {
   "cell_type": "markdown",
   "metadata": {},
   "source": [
    "# Data acquisition"
   ]
  },
  {
   "cell_type": "markdown",
   "metadata": {},
   "source": [
    "## China"
   ]
  },
  {
   "cell_type": "markdown",
   "metadata": {},
   "source": [
    "* Total sales of passenger cars\n",
    "    * http://www.oica.net/category/sales-statistics/\n",
    "* Sales of new energy vehicles (NEV) [^1]\n",
    "    * https://en.wikipedia.org/wiki/New_energy_vehicles_in_China\n",
    "    * **Warning:** According to the definition of the Chinese government, NEVs only include battery electric vehicles (BEV), plug-in hybrid electric vehicles (PHEV) and fuel cell electric vehicles (FCEV). But this number also includes busses, vans and commercial vehicles. This is different to the data on the European market, which only includes sales of passenger cars. Thus, the numbers will be an overestimation of electric passenger cars in China."
   ]
  },
  {
   "cell_type": "markdown",
   "metadata": {},
   "source": [
    "Compute the market share of electric vehicles in China from 2013 until 2017"
   ]
  },
  {
   "cell_type": "markdown",
   "metadata": {},
   "source": [
    "## United States"
   ]
  },
  {
   "cell_type": "markdown",
   "metadata": {},
   "source": [
    "* Total sales of passenger cars\n",
    "    * http://www.oica.net/category/sales-statistics/\n",
    "* Data from U.S. Department of Energy\n",
    "\n",
    "Check with\n",
    "http://www.ev-volumes.com/country/usa/"
   ]
  },
  {
   "cell_type": "markdown",
   "metadata": {},
   "source": [
    "Compute the market share of electric vehicles in the U.S. from 2013 until 2017"
   ]
  },
  {
   "cell_type": "markdown",
   "metadata": {},
   "source": [
    "## Wiki data\n",
    "\n",
    "* https://en.wikipedia.org/wiki/Electric_car_use_by_country\n",
    "* Crawl the data on electric passenger car market share; especially for China, US, Germany\n",
    "* compare accuracy\n",
    "* **data for 2018!**"
   ]
  },
  {
   "cell_type": "markdown",
   "metadata": {},
   "source": [
    "## Use data of other European countries\n",
    "\n",
    "https://www.best-selling-cars.com/electric/2018-full-year-europe-electric-and-plug-in-hybrid-car-sales-per-eu-and-efta-country/\n",
    "\n",
    "https://www.acea.be/press-releases/article/fuel-types-of-new-cars-diesel-17.9-petrol-3.3-electric-40.0-in-first-quarte\n",
    "\n",
    "Italy and Denmark!"
   ]
  },
  {
   "cell_type": "markdown",
   "metadata": {},
   "source": [
    "## Finished data\n",
    "\n",
    "Will be only the *newest* market share of electric vehicles per country\n",
    "\n",
    "(Check every country; e.g. remove North Macedonia)"
   ]
  },
  {
   "cell_type": "markdown",
   "metadata": {},
   "source": [
    "## Country characteristics\n",
    "\n",
    "* GDP (PPP) per capita\n",
    "    * https://en.wikipedia.org/wiki/List_of_countries_by_GDP_(PPP)_per_capita\n",
    "* Same-sex marriage\n",
    "    * https://en.wikipedia.org/wiki/Same-sex_marriage\n",
    "* Popular vote for nationalist parties\n",
    "    * https://en.wikipedia.org/wiki/List_of_active_nationalist_parties_in_Europe\n",
    "    * US: https://en.wikipedia.org/wiki/2016_United_States_presidential_election\n",
    "        * 46.1\n",
    "    * China: 50\n",
    "* Social progress index\n",
    "    * https://www.socialprogress.org/\n",
    "    * https://de.wikipedia.org/wiki/Social_Progress_Index\n",
    "* Gini Index\n",
    "    * https://data.worldbank.org/indicator/SI.POV.GINI/\n",
    "        * Latest Gini index (for those countries that are not in the wikipedia table)\n",
    "    * https://en.wikipedia.org/wiki/List_of_countries_by_income_equality\n",
    "        * (World Bank Gini)"
   ]
  },
  {
   "cell_type": "code",
   "execution_count": null,
   "metadata": {},
   "outputs": [],
   "source": []
  }
 ],
 "metadata": {
  "kernelspec": {
   "display_name": "Python 3",
   "language": "python",
   "name": "python3"
  },
  "language_info": {
   "codemirror_mode": {
    "name": "ipython",
    "version": 3
   },
   "file_extension": ".py",
   "mimetype": "text/x-python",
   "name": "python",
   "nbconvert_exporter": "python",
   "pygments_lexer": "ipython3",
   "version": "3.7.3"
  }
 },
 "nbformat": 4,
 "nbformat_minor": 2
}
